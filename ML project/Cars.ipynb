{
 "cells": [
  {
   "cell_type": "markdown",
   "id": "2a35ed86",
   "metadata": {},
   "source": [
    "Import all the needed libraries"
   ]
  },
  {
   "cell_type": "code",
   "execution_count": 18,
   "id": "4e3af656",
   "metadata": {},
   "outputs": [],
   "source": [
    "import numpy as np\n",
    "import pandas as pd\n",
    "from sklearn.metrics import accuracy_score\n",
    "from sklearn.model_selection import train_test_split\n",
    "from sklearn.metrics import mean_squared_error    \n",
    "from sklearn.preprocessing import PolynomialFeatures    # function to generate polynomial and interaction features\n",
    "from sklearn.linear_model import LinearRegression    # classes providing Linear Regression with ordinary squared error loss and Huber loss, respectively\n",
    "from sklearn.metrics import mean_squared_error\n",
    "from sklearn.tree import DecisionTreeRegressor"
   ]
  },
  {
   "cell_type": "markdown",
   "id": "06bda7a5",
   "metadata": {},
   "source": [
    "Read the data"
   ]
  },
  {
   "cell_type": "code",
   "execution_count": 19,
   "id": "75da3922",
   "metadata": {},
   "outputs": [],
   "source": [
    "df = pd.read_csv('vehicles.csv')"
   ]
  },
  {
   "cell_type": "markdown",
   "id": "07800a03",
   "metadata": {},
   "source": [
    "Check if the correct data as imported"
   ]
  },
  {
   "cell_type": "code",
   "execution_count": 20,
   "id": "683abd66",
   "metadata": {},
   "outputs": [],
   "source": [
    "nan_value = float(\"NaN\")\n",
    "df.replace(\"\", nan_value, inplace=True)\n",
    "df.drop((df['price'] == 0).index)\n",
    "df.dropna(subset = ['price','year','odometer','type','fuel','transmission','cylinders','drive'], inplace=True)\n",
    "df = df[['price','year','type','manufacturer','odometer', 'fuel', 'transmission']]"
   ]
  },
  {
   "cell_type": "code",
   "execution_count": 21,
   "id": "e0489f88",
   "metadata": {},
   "outputs": [],
   "source": [
    "df = df[df['manufacturer'] == 'ford']\n",
    "df = df[df['type'] == 'truck']\n",
    "df = df.replace('gas',0)\n",
    "df = df.replace('diesel',1)\n",
    "df = df.replace('hybrid',2)\n",
    "df = df.replace('other',3)\n",
    "df = df.replace('electric',4)\n",
    "df = df.replace('manual',0)\n",
    "df = df.replace('automatic',1)\n",
    "df = df.replace('other',2)"
   ]
  },
  {
   "cell_type": "code",
   "execution_count": 22,
   "id": "b73d8813",
   "metadata": {},
   "outputs": [],
   "source": [
    "price = df['price']\n",
    "year = df['year']\n",
    "distance = df['odometer']\n",
    "fuel = df['fuel']\n",
    "transmission = df['transmission']"
   ]
  },
  {
   "cell_type": "code",
   "execution_count": 23,
   "id": "25bd15b9",
   "metadata": {},
   "outputs": [],
   "source": [
    "price = price.to_numpy()\n",
    "year = year.to_numpy()\n",
    "distance = distance.to_numpy()\n",
    "fuel = fuel.to_numpy()\n",
    "transmission = transmission.to_numpy()"
   ]
  },
  {
   "cell_type": "code",
   "execution_count": 24,
   "id": "8005fccc",
   "metadata": {},
   "outputs": [],
   "source": [
    "df = df[['price','year','odometer', 'fuel', 'transmission']]"
   ]
  },
  {
   "cell_type": "code",
   "execution_count": 25,
   "id": "0762537f",
   "metadata": {},
   "outputs": [
    {
     "data": {
      "text/html": [
       "<div>\n",
       "<style scoped>\n",
       "    .dataframe tbody tr th:only-of-type {\n",
       "        vertical-align: middle;\n",
       "    }\n",
       "\n",
       "    .dataframe tbody tr th {\n",
       "        vertical-align: top;\n",
       "    }\n",
       "\n",
       "    .dataframe thead th {\n",
       "        text-align: right;\n",
       "    }\n",
       "</style>\n",
       "<table border=\"1\" class=\"dataframe\">\n",
       "  <thead>\n",
       "    <tr style=\"text-align: right;\">\n",
       "      <th></th>\n",
       "      <th>price</th>\n",
       "      <th>year</th>\n",
       "      <th>odometer</th>\n",
       "      <th>fuel</th>\n",
       "      <th>transmission</th>\n",
       "    </tr>\n",
       "  </thead>\n",
       "  <tbody>\n",
       "    <tr>\n",
       "      <th>31</th>\n",
       "      <td>15000</td>\n",
       "      <td>2013.0</td>\n",
       "      <td>128000.0</td>\n",
       "      <td>0</td>\n",
       "      <td>1</td>\n",
       "    </tr>\n",
       "    <tr>\n",
       "      <th>65</th>\n",
       "      <td>22500</td>\n",
       "      <td>2001.0</td>\n",
       "      <td>144700.0</td>\n",
       "      <td>1</td>\n",
       "      <td>0</td>\n",
       "    </tr>\n",
       "    <tr>\n",
       "      <th>175</th>\n",
       "      <td>12500</td>\n",
       "      <td>2008.0</td>\n",
       "      <td>141345.0</td>\n",
       "      <td>0</td>\n",
       "      <td>1</td>\n",
       "    </tr>\n",
       "    <tr>\n",
       "      <th>177</th>\n",
       "      <td>22950</td>\n",
       "      <td>2014.0</td>\n",
       "      <td>166380.0</td>\n",
       "      <td>0</td>\n",
       "      <td>1</td>\n",
       "    </tr>\n",
       "    <tr>\n",
       "      <th>337</th>\n",
       "      <td>8950</td>\n",
       "      <td>2011.0</td>\n",
       "      <td>164000.0</td>\n",
       "      <td>0</td>\n",
       "      <td>1</td>\n",
       "    </tr>\n",
       "    <tr>\n",
       "      <th>...</th>\n",
       "      <td>...</td>\n",
       "      <td>...</td>\n",
       "      <td>...</td>\n",
       "      <td>...</td>\n",
       "      <td>...</td>\n",
       "    </tr>\n",
       "    <tr>\n",
       "      <th>426692</th>\n",
       "      <td>56988</td>\n",
       "      <td>2019.0</td>\n",
       "      <td>18671.0</td>\n",
       "      <td>0</td>\n",
       "      <td>1</td>\n",
       "    </tr>\n",
       "    <tr>\n",
       "      <th>426716</th>\n",
       "      <td>65950</td>\n",
       "      <td>2020.0</td>\n",
       "      <td>21300.0</td>\n",
       "      <td>1</td>\n",
       "      <td>1</td>\n",
       "    </tr>\n",
       "    <tr>\n",
       "      <th>426766</th>\n",
       "      <td>55995</td>\n",
       "      <td>2019.0</td>\n",
       "      <td>23670.0</td>\n",
       "      <td>0</td>\n",
       "      <td>1</td>\n",
       "    </tr>\n",
       "    <tr>\n",
       "      <th>426776</th>\n",
       "      <td>52995</td>\n",
       "      <td>2019.0</td>\n",
       "      <td>31558.0</td>\n",
       "      <td>0</td>\n",
       "      <td>1</td>\n",
       "    </tr>\n",
       "    <tr>\n",
       "      <th>426785</th>\n",
       "      <td>23495</td>\n",
       "      <td>2015.0</td>\n",
       "      <td>146795.0</td>\n",
       "      <td>0</td>\n",
       "      <td>1</td>\n",
       "    </tr>\n",
       "  </tbody>\n",
       "</table>\n",
       "<p>9564 rows × 5 columns</p>\n",
       "</div>"
      ],
      "text/plain": [
       "        price    year  odometer  fuel  transmission\n",
       "31      15000  2013.0  128000.0     0             1\n",
       "65      22500  2001.0  144700.0     1             0\n",
       "175     12500  2008.0  141345.0     0             1\n",
       "177     22950  2014.0  166380.0     0             1\n",
       "337      8950  2011.0  164000.0     0             1\n",
       "...       ...     ...       ...   ...           ...\n",
       "426692  56988  2019.0   18671.0     0             1\n",
       "426716  65950  2020.0   21300.0     1             1\n",
       "426766  55995  2019.0   23670.0     0             1\n",
       "426776  52995  2019.0   31558.0     0             1\n",
       "426785  23495  2015.0  146795.0     0             1\n",
       "\n",
       "[9564 rows x 5 columns]"
      ]
     },
     "metadata": {},
     "output_type": "display_data"
    }
   ],
   "source": [
    "display(df)"
   ]
  },
  {
   "cell_type": "code",
   "execution_count": 26,
   "id": "9be1f59c",
   "metadata": {},
   "outputs": [
    {
     "name": "stdout",
     "output_type": "stream",
     "text": [
      "9564\n"
     ]
    }
   ],
   "source": [
    "features = []\n",
    "labels = []\n",
    "m = 0\n",
    "for row in df.iterrows() :\n",
    "    datapoint_one = distance[m].astype('int')\n",
    "    datapoint_two = year[m].astype('int')\n",
    "    datapoint_three = fuel[m]\n",
    "    datapoint_four = transmission[m]\n",
    "    label_one = price[m]\n",
    "    features.append([datapoint_one, datapoint_two,datapoint_three,datapoint_four])\n",
    "    labels.append(label_one)\n",
    "    m = m + 1\n",
    "print(m)"
   ]
  },
  {
   "cell_type": "code",
   "execution_count": 27,
   "id": "4943e832",
   "metadata": {},
   "outputs": [],
   "source": [
    "X = np.array(features)\n",
    "y = np.array(labels)\n",
    "X_train, X_val, y_train, y_val = train_test_split(X, y, test_size=0.3, random_state = 1)\n",
    "X_val, X_test, y_val, y_test = train_test_split(X, y, test_size=0.5, random_state = 1)"
   ]
  },
  {
   "cell_type": "code",
   "execution_count": 29,
   "id": "9cef908c",
   "metadata": {},
   "outputs": [],
   "source": [
    "regressor = DecisionTreeRegressor(criterion = 'squared_error',random_state=1)\n",
    "regressor.fit(X_train, y_train)\n",
    "y_pred_val= regressor.predict(X_val)\n",
    "y_pred_train = regressor.predict(X_train)\n",
    "accuracy_val = accuracy_score(y_val,y_pred_val.astype('int'))\n",
    "accuracy_train = accuracy_score(y_train,y_pred_train.astype('int'))"
   ]
  },
  {
   "cell_type": "code",
   "execution_count": 34,
   "id": "9e989ba7",
   "metadata": {},
   "outputs": [],
   "source": [
    "y_reg= regressor.predict(X_test)"
   ]
  },
  {
   "cell_type": "code",
   "execution_count": 35,
   "id": "44e86086",
   "metadata": {},
   "outputs": [],
   "source": [
    "acc_reg = accuracy_score(y_test,y_reg.astype('int'))"
   ]
  },
  {
   "cell_type": "code",
   "execution_count": 36,
   "id": "dfaa3c1d",
   "metadata": {},
   "outputs": [],
   "source": [
    "lin = LinearRegression()\n",
    "lin.fit(X_train,y_train)\n",
    "y_lin = lin.predict(X_val)\n",
    "acc = accuracy_score(y_val,y_lin.astype('int'))"
   ]
  },
  {
   "cell_type": "code",
   "execution_count": 37,
   "id": "a030c019",
   "metadata": {},
   "outputs": [],
   "source": [
    "poly = PolynomialFeatures(degree= 10)    # initialize a polynomial feature transformer \n",
    "X_poly = poly.fit_transform(X_train)    # fit and transform the raw features\n",
    "    \n",
    "lin_regr = LinearRegression(fit_intercept=True) # NOTE: \"fit_intercept=False\" as we already have a constant iterm in the new feature X_poly\n",
    "lin_regr.fit(X_poly,y_train)# fit linear regression to these new features and labels (labels remain same)\n",
    "X_val = poly.fit_transform(X_val) \n",
    "    \n",
    "y_lin = lin_regr.predict(X_val)    # predict using the learnt linear model\n",
    "tr_error = mean_squared_error(y_val,y_lin)    # calculate the training error\n",
    "acc = accuracy_score(y_val,y_lin.astype('int'))"
   ]
  },
  {
   "cell_type": "code",
   "execution_count": null,
   "metadata": {},
   "outputs": [],
   "source": []
  }
 ],
 "metadata": {
  "kernelspec": {
   "display_name": "Python 3",
   "language": "python",
   "name": "python3"
  },
  "language_info": {
   "codemirror_mode": {
    "name": "ipython",
    "version": 3
   },
   "file_extension": ".py",
   "mimetype": "text/x-python",
   "name": "python",
   "nbconvert_exporter": "python",
   "pygments_lexer": "ipython3",
   "version": "3.8.6"
  },
  "varInspector": {
   "cols": {
    "lenName": 16,
    "lenType": 16,
    "lenVar": 40
   },
   "kernels_config": {
    "python": {
     "delete_cmd_postfix": "",
     "delete_cmd_prefix": "del ",
     "library": "var_list.py",
     "varRefreshCmd": "print(var_dic_list())"
    },
    "r": {
     "delete_cmd_postfix": ") ",
     "delete_cmd_prefix": "rm(",
     "library": "var_list.r",
     "varRefreshCmd": "cat(var_dic_list()) "
    }
   },
   "types_to_exclude": [
    "module",
    "function",
    "builtin_function_or_method",
    "instance",
    "_Feature"
   ],
   "window_display": false
  }
 },
 "nbformat": 4,
 "nbformat_minor": 5
}
